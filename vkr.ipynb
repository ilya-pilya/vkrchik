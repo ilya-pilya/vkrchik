{
 "cells": [
  {
   "cell_type": "code",
   "execution_count": 15,
   "metadata": {},
   "outputs": [
    {
     "name": "stdout",
     "output_type": "stream",
     "text": [
      "Converted C:/Users/pillya/Documents/ish/vkr/datasets\\ger.tsv to C:/Users/pillya/Documents/ish/vkr/datasets\\ger.csv\n",
      "Converted C:/Users/pillya/Documents/ish/vkr/datasets\\gre.tsv to C:/Users/pillya/Documents/ish/vkr/datasets\\gre.csv\n",
      "Converted C:/Users/pillya/Documents/ish/vkr/datasets\\rus.tsv to C:/Users/pillya/Documents/ish/vkr/datasets\\rus.csv\n",
      "Converted C:/Users/pillya/Documents/ish/vkr/datasets\\tur.tsv to C:/Users/pillya/Documents/ish/vkr/datasets\\tur.csv\n",
      "Successfully processed and overwritten ger.csv\n",
      "Successfully processed and overwritten gre.csv\n",
      "Successfully processed and overwritten rus.csv\n",
      "Successfully processed and overwritten tur.csv\n"
     ]
    }
   ],
   "source": [
    "import pandas as pd\n",
    "import os\n",
    "import csv\n",
    "\n",
    "directory = \"C:/Users/pillya/Documents/ish/vkr/datasets\"\n",
    "\n",
    "for filename in os.listdir(directory):\n",
    "    if filename.endswith('.tsv'):\n",
    "        tsv_file = os.path.join(directory, filename)\n",
    "        csv_file = os.path.join(directory, filename.replace('.tsv', '.csv'))\n",
    "        with open(tsv_file, 'r', newline='', encoding='utf-8') as infile, open(csv_file, 'w', newline='', encoding='utf-8') as outfile:\n",
    "            reader = csv.reader(infile, delimiter='\\t')\n",
    "            writer = csv.writer(outfile)\n",
    "            for row in reader:\n",
    "                writer.writerow(row)\n",
    "        print(f'Converted {tsv_file} to {csv_file}')\n",
    "\n",
    "for filename in os.listdir(directory):\n",
    "    if filename.endswith('.csv'):\n",
    "        file_path = os.path.join(directory, filename)\n",
    "        try:\n",
    "            df = pd.read_csv(file_path, header=None)\n",
    "            df.columns = ['text', 'value']  \n",
    "            df.to_csv(file_path, index=False)\n",
    "            print(f'Successfully processed and overwritten {filename}')\n",
    "        except PermissionError as e:\n",
    "            print(f\"Permission error for {filename}: {e}\")\n",
    "        except FileNotFoundError as e:\n",
    "            print(f\"File not found: {e}\")\n",
    "        except Exception as e:\n",
    "            print(f\"An error occurred while processing {filename}: {e}\")"
   ]
  },
  {
   "cell_type": "code",
   "execution_count": 16,
   "metadata": {},
   "outputs": [
    {
     "name": "stdout",
     "output_type": "stream",
     "text": [
      "Очистка прошла успешно C:/Users/pillya/Documents/ish/vkr/datasets\\ger.csv\n",
      "Очистка прошла успешно C:/Users/pillya/Documents/ish/vkr/datasets\\gre.csv\n",
      "Очистка прошла успешно C:/Users/pillya/Documents/ish/vkr/datasets\\tur.csv\n",
      "Очистка прошла успешно C:/Users/pillya/Documents/ish/vkr/datasets\\rus.csv\n"
     ]
    }
   ],
   "source": [
    "def load_dataset(file_path):\n",
    "    return pd.read_csv(file_path)\n",
    "\n",
    "def clean_dataset(df):\n",
    "    return df\n",
    "\n",
    "languages = ['ger', 'gre', 'tur', 'rus']\n",
    "datasets = []\n",
    "\n",
    "for lang in languages:\n",
    "    file_path = os.path.join(directory, f'{lang}.csv')\n",
    "    try:\n",
    "        df = load_dataset(file_path)\n",
    "        df = clean_dataset(df)\n",
    "        datasets.append(df)\n",
    "        print(f'Очистка прошла успешно {file_path}')\n",
    "    except PermissionError as e:\n",
    "        print(f\"Permission error: {e}\")\n",
    "    except FileNotFoundError as e:\n",
    "        print(f\"File not found: {e}\")\n",
    "    except Exception as e:\n",
    "        print(f\"An error occurred: {e}\")"
   ]
  },
  {
   "cell_type": "code",
   "execution_count": 17,
   "metadata": {},
   "outputs": [],
   "source": [
    "combined_df = pd.concat(datasets, keys=languages, names=['language', 'index'])\n",
    "combined_df = combined_df.reset_index(level=1, drop=True).reset_index()"
   ]
  },
  {
   "cell_type": "code",
   "execution_count": 18,
   "metadata": {},
   "outputs": [],
   "source": [
    "from sklearn.model_selection import train_test_split\n",
    "\n",
    "train_df, test_df = train_test_split(combined_df, test_size=0.2, random_state=42, stratify=combined_df['language'])"
   ]
  },
  {
   "cell_type": "code",
   "execution_count": 19,
   "metadata": {},
   "outputs": [
    {
     "name": "stdout",
     "output_type": "stream",
     "text": [
      "TrainDF columns: Index(['language', 'text', 'value'], dtype='object')\n",
      "TestDF columns: Index(['language', 'text', 'value'], dtype='object')\n",
      "TrainDF head:\n",
      "        language   text     value\n",
      "145968      rus      .         O\n",
      "34520       ger   auch         O\n",
      "87990       gre   Σάσα  B-PERSON\n",
      "143087      rus  будет         O\n",
      "46530       ger    den         O\n",
      "TestDF head:\n",
      "        language            text value\n",
      "34016       ger    eingebettete     O\n",
      "77103       gre  χαρακτηριστικό     O\n",
      "6710        ger         Urteils     O\n",
      "102573      gre             για     O\n",
      "102757      gre             που     O\n",
      "Векторизация выполнена успешно\n"
     ]
    }
   ],
   "source": [
    "from sklearn.feature_extraction.text import TfidfVectorizer\n",
    "\n",
    "print(\"TrainDF columns:\", train_df.columns)\n",
    "print(\"TestDF columns:\", test_df.columns)\n",
    "\n",
    "print(\"TrainDF head:\\n\", train_df.head())\n",
    "print(\"TestDF head:\\n\", test_df.head())\n",
    "\n",
    "if '1.' in train_df.columns:\n",
    "    train_df.rename(columns={'1.': 'text'}, inplace=True)\n",
    "if '1.' in test_df.columns:\n",
    "    test_df.rename(columns={'1.': 'text'}, inplace=True)\n",
    "if 'text' not in train_df.columns:\n",
    "    raise KeyError(\"Столбец 'text' не найден в train_df\")\n",
    "if 'text' not in test_df.columns:\n",
    "    raise KeyError(\"Столбец 'text' не найден в test_df\")\n",
    "\n",
    "vectorizer = TfidfVectorizer(max_features=5000)\n",
    "X_train = vectorizer.fit_transform(train_df['text'].dropna())\n",
    "X_test = vectorizer.transform(test_df['text'].dropna())\n",
    "y_train = train_df['language']\n",
    "y_test = test_df['language']\n",
    "print(\"Векторизация выполнена успешно\")"
   ]
  },
  {
   "cell_type": "code",
   "execution_count": 20,
   "metadata": {},
   "outputs": [
    {
     "name": "stdout",
     "output_type": "stream",
     "text": [
      "              precision    recall  f1-score   support\n",
      "\n",
      "         ger       0.56      1.00      0.71     12879\n",
      "         gre       0.99      0.51      0.67      8027\n",
      "         rus       0.97      0.29      0.45      5826\n",
      "         tur       0.97      0.38      0.55      3583\n",
      "\n",
      "    accuracy                           0.66     30315\n",
      "   macro avg       0.87      0.54      0.59     30315\n",
      "weighted avg       0.80      0.66      0.63     30315\n",
      "\n"
     ]
    }
   ],
   "source": [
    "from sklearn.linear_model import LogisticRegression\n",
    "from sklearn.metrics import classification_report\n",
    "\n",
    "model = LogisticRegression(max_iter=1000)\n",
    "model.fit(X_train, y_train)\n",
    "\n",
    "y_pred = model.predict(X_test)\n",
    "print(classification_report(y_test, y_pred))"
   ]
  },
  {
   "cell_type": "code",
   "execution_count": 21,
   "metadata": {},
   "outputs": [
    {
     "data": {
      "image/png": "[encoded data removed]",
      "text/plain": [
       "<Figure size 640x480 with 2 Axes>"
      ]
     },
     "metadata": {},
     "output_type": "display_data"
    }
   ],
   "source": [
    "from sklearn.metrics import confusion_matrix\n",
    "import seaborn as sns\n",
    "import matplotlib.pyplot as plt\n",
    "\n",
    "conf_matrix = confusion_matrix(y_test, y_pred)\n",
    "sns.heatmap(conf_matrix, annot=True, fmt='d', cmap='Blues', xticklabels=languages, yticklabels=languages)\n",
    "plt.xlabel('Predicted')\n",
    "plt.ylabel('True')\n",
    "plt.show()"
   ]
  },
  {
   "cell_type": "code",
   "execution_count": 22,
   "metadata": {},
   "outputs": [
    {
     "data": {
      "text/plain": [
       "['tfidf_vectorizer.pkl']"
      ]
     },
     "execution_count": 22,
     "metadata": {},
     "output_type": "execute_result"
    }
   ],
   "source": [
    "import joblib\n",
    "\n",
    "joblib.dump(model, 'language_classifier.pkl')\n",
    "joblib.dump(vectorizer, 'tfidf_vectorizer.pkl')"
   ]
  },
  {
   "cell_type": "code",
   "execution_count": 23,
   "metadata": {},
   "outputs": [
    {
     "name": "stdout",
     "output_type": "stream",
     "text": [
      "Введите несколько слов на любом языке, и модель предскажет язык:\n",
      "Предсказанный язык: ger\n"
     ]
    }
   ],
   "source": [
    "model = joblib.load('language_classifier.pkl')\n",
    "vectorizer = joblib.load('tfidf_vectorizer.pkl')\n",
    "\n",
    "def predict_language(text):\n",
    "    text_vectorized = vectorizer.transform([text])\n",
    "    predicted_language = model.predict(text_vectorized)[0]\n",
    "    return predicted_language\n",
    "\n",
    "def main():\n",
    "    print(\"Введите несколько слов на любом языке, и модель предскажет язык:\")\n",
    "    user_input = input(\"Ввод: \")\n",
    "    predicted_language = predict_language(user_input)\n",
    "    print(f\"Предсказанный язык: {predicted_language}\")\n",
    "\n",
    "if __name__ == \"__main__\":\n",
    "    main()"
   ]
  },
  {
   "cell_type": "code",
   "execution_count": 24,
   "metadata": {},
   "outputs": [
    {
     "name": "stdout",
     "output_type": "stream",
     "text": [
      "  language         text value\n",
      "0      ger           1.     O\n",
      "1      ger          Auf     O\n",
      "2      ger          die     O\n",
      "3      ger     Revision     O\n",
      "4      ger          des     O\n",
      "5      ger  Angeklagten     O\n",
      "6      ger         wird     O\n",
      "7      ger          das     O\n",
      "8      ger       Urteil     O\n",
      "9      ger          der     O\n",
      "language\n",
      "ger    64397\n",
      "gre    40133\n",
      "rus    29131\n",
      "tur    17914\n",
      "Name: count, dtype: int64\n"
     ]
    }
   ],
   "source": [
    "# Проверка данных\n",
    "print(combined_df.head(10))\n",
    "print(combined_df['language'].value_counts())"
   ]
  },
  {
   "cell_type": "code",
   "execution_count": 25,
   "metadata": {},
   "outputs": [
    {
     "name": "stdout",
     "output_type": "stream",
     "text": [
      "[[0. 0. 0. ... 0. 0. 0.]]\n"
     ]
    }
   ],
   "source": [
    "sample_text = \"Доброе утро\"\n",
    "sample_vectorized = vectorizer.transform([sample_text])\n",
    "print(sample_vectorized.toarray())"
   ]
  },
  {
   "cell_type": "code",
   "execution_count": 26,
   "metadata": {},
   "outputs": [
    {
     "name": "stdout",
     "output_type": "stream",
     "text": [
      "              precision    recall  f1-score   support\n",
      "\n",
      "         ger       0.56      1.00      0.71     12879\n",
      "         gre       0.99      0.51      0.67      8027\n",
      "         rus       0.97      0.29      0.45      5826\n",
      "         tur       0.97      0.38      0.55      3583\n",
      "\n",
      "    accuracy                           0.66     30315\n",
      "   macro avg       0.87      0.54      0.59     30315\n",
      "weighted avg       0.80      0.66      0.63     30315\n",
      "\n"
     ]
    }
   ],
   "source": [
    "y_pred = model.predict(X_test)\n",
    "print(classification_report(y_test, y_pred))"
   ]
  },
  {
   "cell_type": "code",
   "execution_count": 27,
   "metadata": {},
   "outputs": [
    {
     "name": "stdout",
     "output_type": "stream",
     "text": [
      "Text: eingebettete\n",
      "True Language: ger\n",
      "Predicted Language: ger\n",
      "\n",
      "Text: χαρακτηριστικό\n",
      "True Language: gre\n",
      "Predicted Language: ger\n",
      "\n",
      "Text: Urteils\n",
      "True Language: ger\n",
      "Predicted Language: ger\n",
      "\n",
      "Text: για\n",
      "True Language: gre\n",
      "Predicted Language: gre\n",
      "\n",
      "Text: που\n",
      "True Language: gre\n",
      "Predicted Language: gre\n",
      "\n"
     ]
    }
   ],
   "source": [
    "for i in range(5):\n",
    "    sample_text = test_df['text'].iloc[i]\n",
    "    sample_vectorized = vectorizer.transform([sample_text])\n",
    "    predicted_language = model.predict(sample_vectorized)[0]\n",
    "    true_language = test_df['language'].iloc[i]\n",
    "    print(f\"Text: {sample_text}\\nTrue Language: {true_language}\\nPredicted Language: {predicted_language}\\n\")"
   ]
  },
  {
   "cell_type": "code",
   "execution_count": 28,
   "metadata": {},
   "outputs": [
    {
     "name": "stdout",
     "output_type": "stream",
     "text": [
      "Предсказанный язык: rus\n"
     ]
    }
   ],
   "source": [
    "def predict_language(text):\n",
    "    text_vectorized = vectorizer.transform([text])\n",
    "    predicted_language = model.predict(text_vectorized)[0]\n",
    "    return predicted_language\n",
    "\n",
    "\n",
    "user_input = \"Россия\"\n",
    "predicted_language = predict_language(user_input)\n",
    "print(f\"Предсказанный язык: {predicted_language}\")"
   ]
  },
  {
   "cell_type": "code",
   "execution_count": null,
   "metadata": {},
   "outputs": [],
   "source": []
  }
 ],
 "metadata": {
  "kernelspec": {
   "display_name": "Python 3",
   "language": "python",
   "name": "python3"
  },
  "language_info": {
   "codemirror_mode": {
    "name": "ipython",
    "version": 3
   },
   "file_extension": ".py",
   "mimetype": "text/x-python",
   "name": "python",
   "nbconvert_exporter": "python",
   "pygments_lexer": "ipython3",
   "version": "3.11.9"
  },
  "orig_nbformat": 4
 },
 "nbformat": 4,
 "nbformat_minor": 2
}
